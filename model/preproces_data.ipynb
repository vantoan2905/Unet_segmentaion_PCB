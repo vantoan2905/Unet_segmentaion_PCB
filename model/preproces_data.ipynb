{
 "cells": [
  {
   "cell_type": "code",
   "execution_count": 1,
   "metadata": {},
   "outputs": [],
   "source": [
    "import cv2 \n",
    "import numpy as np\n",
    "import pandas as pd\n",
    "import matplotlib.pyplot as plt\n",
    "\n",
    "import os\n",
    "import shutil\n",
    "import glob\n",
    "import csv"
   ]
  },
  {
   "cell_type": "code",
   "execution_count": null,
   "metadata": {},
   "outputs": [
    {
     "name": "stdout",
     "output_type": "stream",
     "text": [
      "['473.json', '480.json', '487.json', '494.json', '468.bmp', '468.csv', '468.json', '469.bmp', '469.csv', '469.json', '470.bmp', '470.csv', '470.json', '471.bmp', '471.csv', '471.json', '472.bmp', '472.csv', '472.json', '473.bmp', '473.csv', '474.bmp', '474.csv', '474.json', '475.bmp', '475.csv', '475.json', '476.bmp', '476.csv', '476.json', '477.bmp', '477.csv', '477.json', '478.bmp', '478.csv', '478.json', '479.bmp', '479.csv', '479.json', '480.bmp', '480.csv', '481.bmp', '481.csv', '481.json', '482.bmp', '482.csv', '482.json', '483.bmp', '483.csv', '483.json', '484.bmp', '484.csv', '484.json', '485.bmp', '485.csv', '485.json', '486.bmp', '486.csv', '486.json', '487.bmp', '487.csv', '488.bmp', '488.csv', '488.json', '489.bmp', '489.csv', '489.json', '490.bmp', '490.csv', '490.json', '491.bmp', '491.csv', '491.json', '492.bmp', '492.csv', '492.json', '493.bmp', '493.csv', '493.json', '494.bmp', '494.csv', '495.bmp', '495.csv', '495.json', '496.bmp', '496.csv', '496.json', '497.bmp', '497.csv', '497.json', '498.bmp', '498.csv', '498.json', '499.bmp', '499.csv', '499.json', '500.bmp', '500.csv', '500.json', '501.bmp', '501.csv', '501.json']\n",
      "468.csv\n",
      "469.csv\n",
      "470.csv\n",
      "471.csv\n",
      "472.csv\n",
      "473.csv\n",
      "474.csv\n",
      "475.csv\n",
      "476.csv\n",
      "477.csv\n",
      "478.csv\n",
      "479.csv\n",
      "480.csv\n",
      "481.csv\n",
      "482.csv\n",
      "483.csv\n",
      "484.csv\n",
      "485.csv\n",
      "486.csv\n",
      "487.csv\n",
      "488.csv\n",
      "489.csv\n",
      "490.csv\n",
      "491.csv\n",
      "492.csv\n",
      "493.csv\n",
      "494.csv\n",
      "495.csv\n",
      "496.csv\n",
      "497.csv\n",
      "498.csv\n",
      "499.csv\n",
      "500.csv\n",
      "501.csv\n"
     ]
    }
   ],
   "source": [
    "annotation_path = r\"/media/cow/User/Python/CNN_model/data\"\n",
    "mask_path = r\"/media/cow/User/Python/CNN_model/output\"\n",
    "\n",
    "data_path = os.listdir(annotation_path)\n",
    "mask_path = os.listdir(mask_path)\n",
    "\n",
    "print(data_path)\n",
    "for i in data_path:\n",
    "    if not i.endswith(\".csv\"):\n",
    "        continue\n",
    "    print(i)\n",
    "    df = pd.read_csv(os.path.join(annotation_path, i))\n",
    "            \n",
    "# print(mask_path)\n",
    "    \n"
   ]
  },
  {
   "cell_type": "code",
   "execution_count": 15,
   "metadata": {},
   "outputs": [],
   "source": [
    "import shutil\n",
    "\n",
    "for i in data_path:\n",
    "    if i.endswith(\".bmp\"):\n",
    "        i = os.path.join(annotation_path, i)\n",
    "        shutil.copy(i, r\"/media/cow/User/Python/CNN_model/dataset/ann\")  "
   ]
  },
  {
   "cell_type": "code",
   "execution_count": 14,
   "metadata": {},
   "outputs": [
    {
     "name": "stdout",
     "output_type": "stream",
     "text": [
      "Processing complete. Reordered files are saved in: /media/cow/User/Python/CNN_model/dataset/ann\n"
     ]
    }
   ],
   "source": [
    "import os\n",
    "import pandas as pd\n",
    "\n",
    "def reorder_bbox_points(file_path, output_folder):\n",
    "    # Đọc file CSV\n",
    "    df = pd.read_csv(file_path)\n",
    "\n",
    "    def reorder_row(row):\n",
    "        points = [\n",
    "            (row['Top_Left_X'], row['Top_Left_Y']),\n",
    "            (row['Bottom_Left_X'], row['Bottom_Left_Y']),\n",
    "            (row['Top_Right_X'], row['Top_Right_Y']),\n",
    "            (row['Bottom_Right_X'], row['Bottom_Right_Y'])\n",
    "        ]\n",
    "        \n",
    "        points_sorted = sorted(points, key=lambda p: (p[0], p[1]))\n",
    "        \n",
    "        top_left, bottom_left = sorted(points_sorted[:2], key=lambda p: p[1])\n",
    "        top_right, bottom_right = sorted(points_sorted[2:], key=lambda p: p[1])\n",
    "        \n",
    "        return [*top_left, *bottom_left, *top_right, *bottom_right]\n",
    "\n",
    "    reordered_data = df.apply(lambda row: reorder_row(row), axis=1, result_type=\"expand\")\n",
    "    reordered_data.columns = [\n",
    "        'Top_Left_X', 'Top_Left_Y',\n",
    "        'Bottom_Left_X', 'Bottom_Left_Y',\n",
    "        'Top_Right_X', 'Top_Right_Y',\n",
    "        'Bottom_Right_X', 'Bottom_Right_Y'\n",
    "    ]\n",
    "    \n",
    "    reordered_data.insert(0, 'Square_ID', df['Square_ID'])\n",
    "\n",
    "    os.makedirs(output_folder, exist_ok=True)\n",
    "\n",
    "    output_file = os.path.join(output_folder, os.path.basename(file_path))\n",
    "    reordered_data.to_csv(output_file, index=False)\n",
    "\n",
    "\n",
    "input_folder = \"/media/cow/User/Python/CNN_model/data\"\n",
    "output_folder = \"/media/cow/User/Python/CNN_model/dataset/ann\"\n",
    "\n",
    "for filename in os.listdir(input_folder):\n",
    "    if filename.endswith(\".csv\"):\n",
    "        file_path = os.path.join(input_folder, filename)\n",
    "        reorder_bbox_points(file_path, output_folder)\n",
    "\n",
    "print(\"Processing complete. Reordered files are saved in:\", output_folder)\n"
   ]
  },
  {
   "cell_type": "code",
   "execution_count": 12,
   "metadata": {},
   "outputs": [
    {
     "data": {
      "image/png": "[encoded data removed]",
      "text/plain": [
       "<Figure size 640x480 with 1 Axes>"
      ]
     },
     "metadata": {},
     "output_type": "display_data"
    }
   ],
   "source": [
    "import cv2\n",
    "import numpy as np\n",
    "import matplotlib.pyplot as plt\n",
    "\n",
    "# Input coordinates\n",
    "bbox_points = [\n",
    "    (715, 211),\n",
    "    (715, 297),\n",
    "    (854, 297),\n",
    "    (855, 212),\n",
    "]\n",
    "\n",
    "# Create a white background\n",
    "image_height, image_width = 600, 1000\n",
    "background = np.ones((image_height, image_width, 3), dtype=np.uint8) * 255\n",
    "\n",
    "# Convert points to integer and reshape for cv2\n",
    "polygon = np.array(bbox_points, np.int32).reshape((-1, 1, 2))\n",
    "\n",
    "# Draw the polygon on the image\n",
    "cv2.polylines(background, [polygon], isClosed=True, color=(0, 0, 255), thickness=3)\n",
    "cv2.fillPoly(background, [polygon], color=(0, 255, 0))\n",
    "\n",
    "# Convert BGR to RGB for plt\n",
    "background_rgb = cv2.cvtColor(background, cv2.COLOR_BGR2RGB)\n",
    "\n",
    "# Display the image using matplotlib\n",
    "plt.imshow(background_rgb)\n",
    "plt.axis('off')  # Turn off axis\n",
    "plt.title(\"Polygon Visualization\")\n",
    "plt.show()\n"
   ]
  },
  {
   "cell_type": "code",
   "execution_count": 11,
   "metadata": {},
   "outputs": [
    {
     "name": "stdout",
     "output_type": "stream",
     "text": [
      "Processing: 481.csv\n"
     ]
    },
    {
     "name": "stderr",
     "output_type": "stream",
     "text": [
      "100%|██████████| 1073/1073 [00:00<00:00, 20693.90it/s]\n"
     ]
    },
    {
     "name": "stdout",
     "output_type": "stream",
     "text": [
      "Processing: 482.csv\n"
     ]
    },
    {
     "name": "stderr",
     "output_type": "stream",
     "text": [
      "100%|██████████| 1073/1073 [00:00<00:00, 24671.97it/s]\n"
     ]
    },
    {
     "name": "stdout",
     "output_type": "stream",
     "text": [
      "Processing: 483.csv\n"
     ]
    },
    {
     "name": "stderr",
     "output_type": "stream",
     "text": [
      "100%|██████████| 1073/1073 [00:00<00:00, 23212.03it/s]\n"
     ]
    },
    {
     "name": "stdout",
     "output_type": "stream",
     "text": [
      "Processing: 484.csv\n"
     ]
    },
    {
     "name": "stderr",
     "output_type": "stream",
     "text": [
      "100%|██████████| 1073/1073 [00:00<00:00, 15790.02it/s]\n"
     ]
    },
    {
     "name": "stdout",
     "output_type": "stream",
     "text": [
      "Processing: 485.csv\n"
     ]
    },
    {
     "name": "stderr",
     "output_type": "stream",
     "text": [
      "100%|██████████| 1073/1073 [00:00<00:00, 21505.35it/s]\n"
     ]
    },
    {
     "name": "stdout",
     "output_type": "stream",
     "text": [
      "Processing: 486.csv\n"
     ]
    },
    {
     "name": "stderr",
     "output_type": "stream",
     "text": [
      "100%|██████████| 1073/1073 [00:00<00:00, 16693.89it/s]\n"
     ]
    },
    {
     "name": "stdout",
     "output_type": "stream",
     "text": [
      "Processing: 487.csv\n"
     ]
    },
    {
     "name": "stderr",
     "output_type": "stream",
     "text": [
      "100%|██████████| 1073/1073 [00:00<00:00, 19021.83it/s]\n"
     ]
    },
    {
     "name": "stdout",
     "output_type": "stream",
     "text": [
      "Processing: 488.csv\n"
     ]
    },
    {
     "name": "stderr",
     "output_type": "stream",
     "text": [
      "100%|██████████| 1073/1073 [00:00<00:00, 18492.67it/s]\n"
     ]
    },
    {
     "name": "stdout",
     "output_type": "stream",
     "text": [
      "Processing: 489.csv\n"
     ]
    },
    {
     "name": "stderr",
     "output_type": "stream",
     "text": [
      "100%|██████████| 1073/1073 [00:00<00:00, 19909.35it/s]\n"
     ]
    },
    {
     "name": "stdout",
     "output_type": "stream",
     "text": [
      "Processing: 490.csv\n"
     ]
    },
    {
     "name": "stderr",
     "output_type": "stream",
     "text": [
      "100%|██████████| 1073/1073 [00:00<00:00, 22094.79it/s]\n"
     ]
    },
    {
     "name": "stdout",
     "output_type": "stream",
     "text": [
      "Processing: 491.csv\n"
     ]
    },
    {
     "name": "stderr",
     "output_type": "stream",
     "text": [
      "100%|██████████| 1073/1073 [00:00<00:00, 19170.92it/s]\n"
     ]
    },
    {
     "name": "stdout",
     "output_type": "stream",
     "text": [
      "Processing: 492.csv\n"
     ]
    },
    {
     "name": "stderr",
     "output_type": "stream",
     "text": [
      "100%|██████████| 1073/1073 [00:00<00:00, 20064.15it/s]\n"
     ]
    },
    {
     "name": "stdout",
     "output_type": "stream",
     "text": [
      "Processing: 493.csv\n"
     ]
    },
    {
     "name": "stderr",
     "output_type": "stream",
     "text": [
      "100%|██████████| 1073/1073 [00:00<00:00, 20009.46it/s]\n"
     ]
    },
    {
     "name": "stdout",
     "output_type": "stream",
     "text": [
      "Processing: 494.csv\n"
     ]
    },
    {
     "name": "stderr",
     "output_type": "stream",
     "text": [
      "100%|██████████| 1073/1073 [00:00<00:00, 20519.35it/s]\n"
     ]
    },
    {
     "name": "stdout",
     "output_type": "stream",
     "text": [
      "Processing: 495.csv\n"
     ]
    },
    {
     "name": "stderr",
     "output_type": "stream",
     "text": [
      "100%|██████████| 1073/1073 [00:00<00:00, 18256.52it/s]\n"
     ]
    },
    {
     "name": "stdout",
     "output_type": "stream",
     "text": [
      "Processing: 496.csv\n"
     ]
    },
    {
     "name": "stderr",
     "output_type": "stream",
     "text": [
      "100%|██████████| 1073/1073 [00:00<00:00, 15044.05it/s]\n"
     ]
    },
    {
     "name": "stdout",
     "output_type": "stream",
     "text": [
      "Processing: 497.csv\n"
     ]
    },
    {
     "name": "stderr",
     "output_type": "stream",
     "text": [
      "100%|██████████| 1073/1073 [00:00<00:00, 21531.27it/s]\n"
     ]
    },
    {
     "name": "stdout",
     "output_type": "stream",
     "text": [
      "Processing: 498.csv\n"
     ]
    },
    {
     "name": "stderr",
     "output_type": "stream",
     "text": [
      "100%|██████████| 1073/1073 [00:00<00:00, 21411.42it/s]\n"
     ]
    },
    {
     "name": "stdout",
     "output_type": "stream",
     "text": [
      "Processing: 499.csv\n"
     ]
    },
    {
     "name": "stderr",
     "output_type": "stream",
     "text": [
      "100%|██████████| 1073/1073 [00:00<00:00, 16214.00it/s]\n"
     ]
    },
    {
     "name": "stdout",
     "output_type": "stream",
     "text": [
      "Processing: 500.csv\n"
     ]
    },
    {
     "name": "stderr",
     "output_type": "stream",
     "text": [
      "100%|██████████| 1073/1073 [00:00<00:00, 16800.83it/s]\n"
     ]
    },
    {
     "name": "stdout",
     "output_type": "stream",
     "text": [
      "Processing: 501.csv\n"
     ]
    },
    {
     "name": "stderr",
     "output_type": "stream",
     "text": [
      "100%|██████████| 1073/1073 [00:00<00:00, 19034.38it/s]\n"
     ]
    },
    {
     "name": "stdout",
     "output_type": "stream",
     "text": [
      "Processing: 468.csv\n"
     ]
    },
    {
     "name": "stderr",
     "output_type": "stream",
     "text": [
      "100%|██████████| 1073/1073 [00:00<00:00, 19115.47it/s]\n"
     ]
    },
    {
     "name": "stdout",
     "output_type": "stream",
     "text": [
      "Processing: 469.csv\n"
     ]
    },
    {
     "name": "stderr",
     "output_type": "stream",
     "text": [
      "100%|██████████| 1073/1073 [00:00<00:00, 19257.46it/s]\n"
     ]
    },
    {
     "name": "stdout",
     "output_type": "stream",
     "text": [
      "Processing: 470.csv\n"
     ]
    },
    {
     "name": "stderr",
     "output_type": "stream",
     "text": [
      "100%|██████████| 1073/1073 [00:00<00:00, 21742.01it/s]\n"
     ]
    },
    {
     "name": "stdout",
     "output_type": "stream",
     "text": [
      "Processing: 471.csv\n"
     ]
    },
    {
     "name": "stderr",
     "output_type": "stream",
     "text": [
      "100%|██████████| 1073/1073 [00:00<00:00, 18644.13it/s]\n"
     ]
    },
    {
     "name": "stdout",
     "output_type": "stream",
     "text": [
      "Processing: 472.csv\n"
     ]
    },
    {
     "name": "stderr",
     "output_type": "stream",
     "text": [
      "100%|██████████| 1073/1073 [00:00<00:00, 16261.40it/s]\n"
     ]
    },
    {
     "name": "stdout",
     "output_type": "stream",
     "text": [
      "Processing: 473.csv\n"
     ]
    },
    {
     "name": "stderr",
     "output_type": "stream",
     "text": [
      "100%|██████████| 1073/1073 [00:00<00:00, 18332.52it/s]\n"
     ]
    },
    {
     "name": "stdout",
     "output_type": "stream",
     "text": [
      "Processing: 474.csv\n"
     ]
    },
    {
     "name": "stderr",
     "output_type": "stream",
     "text": [
      "100%|██████████| 1073/1073 [00:00<00:00, 18409.54it/s]\n"
     ]
    },
    {
     "name": "stdout",
     "output_type": "stream",
     "text": [
      "Processing: 475.csv\n"
     ]
    },
    {
     "name": "stderr",
     "output_type": "stream",
     "text": [
      "100%|██████████| 1073/1073 [00:00<00:00, 20216.28it/s]\n"
     ]
    },
    {
     "name": "stdout",
     "output_type": "stream",
     "text": [
      "Processing: 476.csv\n"
     ]
    },
    {
     "name": "stderr",
     "output_type": "stream",
     "text": [
      "100%|██████████| 1073/1073 [00:00<00:00, 16598.09it/s]\n"
     ]
    },
    {
     "name": "stdout",
     "output_type": "stream",
     "text": [
      "Processing: 477.csv\n"
     ]
    },
    {
     "name": "stderr",
     "output_type": "stream",
     "text": [
      "100%|██████████| 1073/1073 [00:00<00:00, 22302.83it/s]\n"
     ]
    },
    {
     "name": "stdout",
     "output_type": "stream",
     "text": [
      "Processing: 478.csv\n"
     ]
    },
    {
     "name": "stderr",
     "output_type": "stream",
     "text": [
      "100%|██████████| 1073/1073 [00:00<00:00, 20288.74it/s]\n"
     ]
    },
    {
     "name": "stdout",
     "output_type": "stream",
     "text": [
      "Processing: 479.csv\n"
     ]
    },
    {
     "name": "stderr",
     "output_type": "stream",
     "text": [
      "100%|██████████| 1073/1073 [00:00<00:00, 21782.00it/s]\n"
     ]
    },
    {
     "name": "stdout",
     "output_type": "stream",
     "text": [
      "Processing: 480.csv\n"
     ]
    },
    {
     "name": "stderr",
     "output_type": "stream",
     "text": [
      "100%|██████████| 1073/1073 [00:00<00:00, 15860.19it/s]"
     ]
    },
    {
     "name": "stdout",
     "output_type": "stream",
     "text": [
      "Processing complete!\n"
     ]
    },
    {
     "name": "stderr",
     "output_type": "stream",
     "text": [
      "\n"
     ]
    }
   ],
   "source": [
    "import numpy as np\n",
    "import pandas as pd\n",
    "import matplotlib.pyplot as plt\n",
    "import cv2\n",
    "import os\n",
    "from tqdm import tqdm\n",
    "\n",
    "ann_path = r\"/media/cow/User/Python/CNN_model/dataset/ann\"\n",
    "save_ = r\"/media/cow/User/Python/CNN_model/dataset/test_bbox\"\n",
    "\n",
    "for csv_file in os.listdir(ann_path):\n",
    "    if not csv_file.endswith(\".csv\"):\n",
    "        continue\n",
    "    print(f\"Processing: {csv_file}\")\n",
    "    \n",
    "    df = pd.read_csv(os.path.join(ann_path, csv_file))\n",
    "    \n",
    "    image_path = os.path.join(ann_path, csv_file[:-4] + \".bmp\")\n",
    "    if not os.path.exists(image_path):\n",
    "        print(f\"Image file not found for: {csv_file}\")\n",
    "        continue\n",
    "    \n",
    "    background = cv2.imread(image_path, cv2.IMREAD_COLOR)\n",
    "    \n",
    "    for _, row in tqdm(df.iterrows(), total=len(df)):\n",
    "        bbox_points = [\n",
    "            (row['Top_Left_X'], row['Top_Left_Y']),\n",
    "            (row['Top_Right_X'], row['Top_Right_Y']),\n",
    "            (row['Bottom_Right_X'], row['Bottom_Right_Y']),\n",
    "            (row['Bottom_Left_X'], row['Bottom_Left_Y']),\n",
    "        ]\n",
    "        bbox_points = [(int(point[0]), int(point[1])) for point in bbox_points]\n",
    "        polygon = np.array([bbox_points], dtype=np.int32)\n",
    "        \n",
    "        cv2.polylines(background, [polygon], isClosed=True, color=(0, 0, 255), thickness=3)\n",
    "    \n",
    "    output_path = os.path.join(save_, csv_file[:-4] + \".bmp\")\n",
    "    os.makedirs(save_, exist_ok=True)\n",
    "    cv2.imwrite(output_path, background)\n",
    "\n",
    "print(\"Processing complete!\")\n"
   ]
  },
  {
   "cell_type": "code",
   "execution_count": 1,
   "metadata": {},
   "outputs": [
    {
     "name": "stdout",
     "output_type": "stream",
     "text": [
      "Processing: 481.csv\n"
     ]
    },
    {
     "name": "stderr",
     "output_type": "stream",
     "text": [
      "100%|██████████| 1073/1073 [00:00<00:00, 7060.51it/s]\n"
     ]
    },
    {
     "name": "stdout",
     "output_type": "stream",
     "text": [
      "Processing: 482.csv\n"
     ]
    },
    {
     "name": "stderr",
     "output_type": "stream",
     "text": [
      "100%|██████████| 1073/1073 [00:00<00:00, 5959.79it/s]\n"
     ]
    },
    {
     "name": "stdout",
     "output_type": "stream",
     "text": [
      "Processing: 483.csv\n"
     ]
    },
    {
     "name": "stderr",
     "output_type": "stream",
     "text": [
      "100%|██████████| 1073/1073 [00:00<00:00, 5752.44it/s]\n"
     ]
    },
    {
     "name": "stdout",
     "output_type": "stream",
     "text": [
      "Processing: 484.csv\n"
     ]
    },
    {
     "name": "stderr",
     "output_type": "stream",
     "text": [
      "100%|██████████| 1073/1073 [00:00<00:00, 7127.50it/s]\n"
     ]
    },
    {
     "name": "stdout",
     "output_type": "stream",
     "text": [
      "Processing: 485.csv\n"
     ]
    },
    {
     "name": "stderr",
     "output_type": "stream",
     "text": [
      "100%|██████████| 1073/1073 [00:00<00:00, 6606.03it/s]\n"
     ]
    },
    {
     "name": "stdout",
     "output_type": "stream",
     "text": [
      "Processing: 486.csv\n"
     ]
    },
    {
     "name": "stderr",
     "output_type": "stream",
     "text": [
      "100%|██████████| 1073/1073 [00:00<00:00, 6016.75it/s]\n"
     ]
    },
    {
     "name": "stdout",
     "output_type": "stream",
     "text": [
      "Processing: 487.csv\n"
     ]
    },
    {
     "name": "stderr",
     "output_type": "stream",
     "text": [
      "100%|██████████| 1073/1073 [00:00<00:00, 5810.19it/s]\n"
     ]
    },
    {
     "name": "stdout",
     "output_type": "stream",
     "text": [
      "Processing: 488.csv\n"
     ]
    },
    {
     "name": "stderr",
     "output_type": "stream",
     "text": [
      "100%|██████████| 1073/1073 [00:00<00:00, 6891.13it/s]\n"
     ]
    },
    {
     "name": "stdout",
     "output_type": "stream",
     "text": [
      "Processing: 489.csv\n"
     ]
    },
    {
     "name": "stderr",
     "output_type": "stream",
     "text": [
      "100%|██████████| 1073/1073 [00:00<00:00, 5862.64it/s]\n"
     ]
    },
    {
     "name": "stdout",
     "output_type": "stream",
     "text": [
      "Processing: 490.csv\n"
     ]
    },
    {
     "name": "stderr",
     "output_type": "stream",
     "text": [
      "100%|██████████| 1073/1073 [00:00<00:00, 6448.07it/s]\n"
     ]
    },
    {
     "name": "stdout",
     "output_type": "stream",
     "text": [
      "Processing: 491.csv\n"
     ]
    },
    {
     "name": "stderr",
     "output_type": "stream",
     "text": [
      "100%|██████████| 1073/1073 [00:00<00:00, 3589.75it/s]\n"
     ]
    },
    {
     "name": "stdout",
     "output_type": "stream",
     "text": [
      "Processing: 492.csv\n"
     ]
    },
    {
     "name": "stderr",
     "output_type": "stream",
     "text": [
      "100%|██████████| 1073/1073 [00:00<00:00, 6825.35it/s]\n"
     ]
    },
    {
     "name": "stdout",
     "output_type": "stream",
     "text": [
      "Processing: 493.csv\n"
     ]
    },
    {
     "name": "stderr",
     "output_type": "stream",
     "text": [
      "100%|██████████| 1073/1073 [00:00<00:00, 6105.83it/s]\n"
     ]
    },
    {
     "name": "stdout",
     "output_type": "stream",
     "text": [
      "Processing: 494.csv\n"
     ]
    },
    {
     "name": "stderr",
     "output_type": "stream",
     "text": [
      "100%|██████████| 1073/1073 [00:00<00:00, 6743.04it/s]\n"
     ]
    },
    {
     "name": "stdout",
     "output_type": "stream",
     "text": [
      "Processing: 495.csv\n"
     ]
    },
    {
     "name": "stderr",
     "output_type": "stream",
     "text": [
      "100%|██████████| 1073/1073 [00:00<00:00, 4663.39it/s]\n"
     ]
    },
    {
     "name": "stdout",
     "output_type": "stream",
     "text": [
      "Processing: 496.csv\n"
     ]
    },
    {
     "name": "stderr",
     "output_type": "stream",
     "text": [
      "100%|██████████| 1073/1073 [00:00<00:00, 7250.27it/s]\n"
     ]
    },
    {
     "name": "stdout",
     "output_type": "stream",
     "text": [
      "Processing: 497.csv\n"
     ]
    },
    {
     "name": "stderr",
     "output_type": "stream",
     "text": [
      "100%|██████████| 1073/1073 [00:00<00:00, 7847.52it/s]\n"
     ]
    },
    {
     "name": "stdout",
     "output_type": "stream",
     "text": [
      "Processing: 498.csv\n"
     ]
    },
    {
     "name": "stderr",
     "output_type": "stream",
     "text": [
      "100%|██████████| 1073/1073 [00:00<00:00, 7066.55it/s]\n"
     ]
    },
    {
     "name": "stdout",
     "output_type": "stream",
     "text": [
      "Processing: 499.csv\n"
     ]
    },
    {
     "name": "stderr",
     "output_type": "stream",
     "text": [
      "100%|██████████| 1073/1073 [00:00<00:00, 8068.95it/s]\n"
     ]
    },
    {
     "name": "stdout",
     "output_type": "stream",
     "text": [
      "Processing: 500.csv\n"
     ]
    },
    {
     "name": "stderr",
     "output_type": "stream",
     "text": [
      "100%|██████████| 1073/1073 [00:00<00:00, 8191.06it/s]\n"
     ]
    },
    {
     "name": "stdout",
     "output_type": "stream",
     "text": [
      "Processing: 501.csv\n"
     ]
    },
    {
     "name": "stderr",
     "output_type": "stream",
     "text": [
      "100%|██████████| 1073/1073 [00:00<00:00, 6950.16it/s]\n"
     ]
    },
    {
     "name": "stdout",
     "output_type": "stream",
     "text": [
      "Processing: 468.csv\n"
     ]
    },
    {
     "name": "stderr",
     "output_type": "stream",
     "text": [
      "100%|██████████| 1073/1073 [00:00<00:00, 5233.08it/s]\n"
     ]
    },
    {
     "name": "stdout",
     "output_type": "stream",
     "text": [
      "Processing: 469.csv\n"
     ]
    },
    {
     "name": "stderr",
     "output_type": "stream",
     "text": [
      "100%|██████████| 1073/1073 [00:00<00:00, 7866.69it/s]\n"
     ]
    },
    {
     "name": "stdout",
     "output_type": "stream",
     "text": [
      "Processing: 470.csv\n"
     ]
    },
    {
     "name": "stderr",
     "output_type": "stream",
     "text": [
      "100%|██████████| 1073/1073 [00:00<00:00, 7914.52it/s]\n"
     ]
    },
    {
     "name": "stdout",
     "output_type": "stream",
     "text": [
      "Processing: 471.csv\n"
     ]
    },
    {
     "name": "stderr",
     "output_type": "stream",
     "text": [
      "100%|██████████| 1073/1073 [00:00<00:00, 2795.93it/s]\n"
     ]
    },
    {
     "name": "stdout",
     "output_type": "stream",
     "text": [
      "Processing: 472.csv\n"
     ]
    },
    {
     "name": "stderr",
     "output_type": "stream",
     "text": [
      "100%|██████████| 1073/1073 [00:00<00:00, 4705.81it/s]\n"
     ]
    },
    {
     "name": "stdout",
     "output_type": "stream",
     "text": [
      "Processing: 473.csv\n"
     ]
    },
    {
     "name": "stderr",
     "output_type": "stream",
     "text": [
      "100%|██████████| 1073/1073 [00:00<00:00, 3986.62it/s]\n"
     ]
    },
    {
     "name": "stdout",
     "output_type": "stream",
     "text": [
      "Processing: 474.csv\n"
     ]
    },
    {
     "name": "stderr",
     "output_type": "stream",
     "text": [
      "100%|██████████| 1073/1073 [00:00<00:00, 4524.68it/s]\n"
     ]
    },
    {
     "name": "stdout",
     "output_type": "stream",
     "text": [
      "Processing: 475.csv\n"
     ]
    },
    {
     "name": "stderr",
     "output_type": "stream",
     "text": [
      "100%|██████████| 1073/1073 [00:00<00:00, 2511.54it/s]\n"
     ]
    },
    {
     "name": "stdout",
     "output_type": "stream",
     "text": [
      "Processing: 476.csv\n"
     ]
    },
    {
     "name": "stderr",
     "output_type": "stream",
     "text": [
      "100%|██████████| 1073/1073 [00:00<00:00, 3126.27it/s]\n"
     ]
    },
    {
     "name": "stdout",
     "output_type": "stream",
     "text": [
      "Processing: 477.csv\n"
     ]
    },
    {
     "name": "stderr",
     "output_type": "stream",
     "text": [
      "100%|██████████| 1073/1073 [00:00<00:00, 2827.96it/s]\n"
     ]
    },
    {
     "name": "stdout",
     "output_type": "stream",
     "text": [
      "Processing: 478.csv\n"
     ]
    },
    {
     "name": "stderr",
     "output_type": "stream",
     "text": [
      "100%|██████████| 1073/1073 [00:00<00:00, 2351.17it/s]\n"
     ]
    },
    {
     "name": "stdout",
     "output_type": "stream",
     "text": [
      "Processing: 479.csv\n"
     ]
    },
    {
     "name": "stderr",
     "output_type": "stream",
     "text": [
      "100%|██████████| 1073/1073 [00:00<00:00, 2342.07it/s]\n"
     ]
    },
    {
     "name": "stdout",
     "output_type": "stream",
     "text": [
      "Processing: 480.csv\n"
     ]
    },
    {
     "name": "stderr",
     "output_type": "stream",
     "text": [
      "100%|██████████| 1073/1073 [00:00<00:00, 2935.46it/s]\n"
     ]
    }
   ],
   "source": [
    "# split bbox from data\n",
    "import os\n",
    "import cv2\n",
    "import pandas as pd\n",
    "from tqdm import tqdm\n",
    "\n",
    "input_folder = r\"/media/cow/User/Python/CNN_model/dataset/ann\"\n",
    "output_folder = r\"/media/cow/User/Python/CNN_model/dataset/test_bbox_split\"\n",
    "\n",
    "os.makedirs(output_folder, exist_ok=True)\n",
    "\n",
    "for csv_file in os.listdir(input_folder):\n",
    "    if not csv_file.endswith(\".csv\"):\n",
    "        continue\n",
    "    print(f\"Processing: {csv_file}\")\n",
    "    \n",
    "    df = pd.read_csv(os.path.join(input_folder, csv_file))\n",
    "    \n",
    "    image_path = os.path.join(input_folder, csv_file[:-4] + \".bmp\")\n",
    "    if not os.path.exists(image_path):\n",
    "        print(f\"Image file not found for: {csv_file}\")\n",
    "        continue\n",
    "    \n",
    "    background = cv2.imread(image_path, cv2.IMREAD_COLOR)\n",
    "    \n",
    "    for idx, row in tqdm(df.iterrows(), total=len(df)):\n",
    "        bbox_points = [\n",
    "            (row['Top_Left_X'], row['Top_Left_Y']),\n",
    "            (row['Top_Right_X'], row['Top_Right_Y']),\n",
    "            (row['Bottom_Right_X'], row['Bottom_Right_Y']),\n",
    "            (row['Bottom_Left_X'], row['Bottom_Left_Y']),\n",
    "        ]\n",
    "        bbox_points = [(int(point[0]), int(point[1])) for point in bbox_points]\n",
    "\n",
    "        overlap = 30\n",
    "        top_left = (bbox_points[0][0] - overlap, bbox_points[0][1] - overlap)\n",
    "        top_right = (bbox_points[1][0] + overlap, bbox_points[1][1] - overlap)\n",
    "        bottom_right = (bbox_points[2][0] + overlap, bbox_points[2][1] + overlap)\n",
    "        bottom_left = (bbox_points[3][0] - overlap, bbox_points[3][1] + overlap)\n",
    "        new_bbox_points = [top_left, top_right, bottom_right, bottom_left]\n",
    "        \n",
    "        x_min = max(min(p[0] for p in new_bbox_points), 0)\n",
    "        x_max = min(max(p[0] for p in new_bbox_points), background.shape[1])\n",
    "        y_min = max(min(p[1] for p in new_bbox_points), 0)\n",
    "        y_max = min(max(p[1] for p in new_bbox_points), background.shape[0])\n",
    "        \n",
    "        cropped_image = background[y_min:y_max, x_min:x_max]\n",
    "        \n",
    "        output_image_path = os.path.join(output_folder, f\"{csv_file[:-4]}_{idx}.bmp\")\n",
    "        cv2.imwrite(output_image_path, cropped_image)\n",
    "        \n",
    "        \n",
    "\n"
   ]
  },
  {
   "cell_type": "code",
   "execution_count": null,
   "metadata": {},
   "outputs": [
    {
     "name": "stderr",
     "output_type": "stream",
     "text": [
      "100%|██████████| 36482/36482 [00:21<00:00, 1710.26it/s]\n"
     ]
    }
   ],
   "source": [
    "import numpy as np\n",
    "import cv2\n",
    "import os\n",
    "from tqdm import tqdm\n",
    "\n",
    "ann_split_data = r\"/media/cow/User/Python/CNN_model/dataset/test_bbox_split\"\n",
    "output_folder = r\"/media/cow/User/Python/CNN_model/dataset/test_bbox_masks\"\n",
    "os.makedirs(output_folder, exist_ok=True)\n",
    "\n",
    "for file in tqdm(os.listdir(ann_split_data)):\n",
    "    if not file.endswith((\".bmp\", \".jpg\", \".png\")):\n",
    "        continue\n",
    "    \n",
    "    img = cv2.imread(os.path.join(ann_split_data, file), cv2.IMREAD_COLOR)\n",
    "    h, w = img.shape[:2]\n",
    "    \n",
    "    black_background = np.zeros((h, w, 3), dtype=np.uint8)\n",
    "    \n",
    "    mask_bbox_points = [\n",
    "        (27, 27),\n",
    "        (w - 27, 27),\n",
    "        (w - 27, h - 27),\n",
    "        (27, h - 27)\n",
    "    ]\n",
    "    \n",
    "    polygon = np.array(mask_bbox_points, np.int32).reshape((-1, 1, 2))\n",
    "    cv2.polylines(black_background, [polygon], isClosed=True, color=(255, 255, 255), thickness=3)\n",
    "    cv2.fillPoly(black_background, [polygon], color=(255, 255, 255))\n",
    "    output_path = os.path.join(output_folder, file[:-4] + \"_mask.bmp\")\n",
    "    cv2.imwrite(output_path, black_background)\n",
    "\n"
   ]
  }
 ],
 "metadata": {
  "kernelspec": {
   "display_name": "yolo",
   "language": "python",
   "name": "python3"
  },
  "language_info": {
   "codemirror_mode": {
    "name": "ipython",
    "version": 3
   },
   "file_extension": ".py",
   "mimetype": "text/x-python",
   "name": "python",
   "nbconvert_exporter": "python",
   "pygments_lexer": "ipython3",
   "version": "3.10.15"
  }
 },
 "nbformat": 4,
 "nbformat_minor": 2
}
